{
  "nbformat": 4,
  "nbformat_minor": 0,
  "metadata": {
    "colab": {
      "provenance": []
    },
    "kernelspec": {
      "name": "python3",
      "display_name": "Python 3"
    },
    "language_info": {
      "name": "python"
    }
  },
  "cells": [
    {
      "cell_type": "code",
      "execution_count": 64,
      "metadata": {
        "colab": {
          "base_uri": "https://localhost:8080/"
        },
        "id": "ojxkIhB0kFOn",
        "outputId": "6fae0954-39c2-4d0d-eb67-45005b9ac2c0"
      },
      "outputs": [
        {
          "output_type": "stream",
          "name": "stdout",
          "text": [
            "Enter your first name: srinivas\n",
            "Enter your last name: musinuri\n",
            "Full Name : srinivas musinuri\n"
          ]
        }
      ],
      "source": [
        "# 1. Write a program that takes two strings from the user: first_name, last_name.\n",
        "   # Pass these variables to fullname function that should return the (full name).\n",
        "\n",
        "def main():\n",
        "  # Enter the input strings\n",
        "    first_name = input(\"Enter your first name: \")\n",
        "    last_name = input(\"Enter your last name: \")\n",
        "\n",
        "    # calling the fullname function here by passing inputs\n",
        "    full_name = fullname(first_name, last_name)\n",
        "\n",
        "    print(\"Full Name :\", full_name)\n",
        "\n",
        "main()"
      ]
    },
    {
      "cell_type": "code",
      "source": [
        "\n",
        "def fullname(first_name, last_name):\n",
        "    full_name = first_name + \" \" + last_name\n",
        "    return full_name"
      ],
      "metadata": {
        "id": "gkdJ0JgMSlot"
      },
      "execution_count": 51,
      "outputs": []
    },
    {
      "cell_type": "code",
      "source": [
        "# 1.b  Write function named “string_alternative” that returns every other char in the full_name string.\n",
        "\n",
        "def main():\n",
        "\n",
        "  # Enter fullname as input\n",
        "    full_name = input(\"Enter your full name: \")\n",
        "\n",
        "  # calling string_alternative function\n",
        "    filteredStr = string_alternative(full_name)\n",
        "\n",
        "  # print the result\n",
        "    print(\"Alternative string :\", filteredStr)\n",
        "\n",
        "main()"
      ],
      "metadata": {
        "colab": {
          "base_uri": "https://localhost:8080/"
        },
        "id": "q9GA9om6oGXB",
        "outputId": "b7da8c68-0a54-4571-ae93-ac7b1a6c71e5"
      },
      "execution_count": 61,
      "outputs": [
        {
          "output_type": "stream",
          "name": "stdout",
          "text": [
            "Enter your full name: srini\n",
            "Alternative string : sii\n"
          ]
        }
      ]
    },
    {
      "cell_type": "code",
      "source": [
        "\n",
        "def string_alternative(inputStr):\n",
        "    resultStr = \"\"\n",
        "\n",
        "  # This for loop iterates through the indices of the input_string starting from index 0 and increasing by 2 in each step\n",
        "    for i in range(0, len(inputStr), 2):\n",
        "        resultStr += inputStr[i]\n",
        "    return resultStr"
      ],
      "metadata": {
        "id": "VOObpTX2S0Ol"
      },
      "execution_count": 31,
      "outputs": []
    },
    {
      "cell_type": "code",
      "source": [
        "# 2 Write a python program to find the wordcount in a file (input.txt) for each line and then print the output.\n",
        "    # Finally store the output in output.txt file.\n",
        "\n",
        "  # give the path of both input and output text files\n",
        "\n",
        "input_file = \"input.txt\"\n",
        "output_file = \"output.txt\""
      ],
      "metadata": {
        "id": "pjBipC3Te_aI"
      },
      "execution_count": 56,
      "outputs": []
    },
    {
      "cell_type": "code",
      "source": [
        "# the code opens the input file in read mode to read all lines,\n",
        "\n",
        "with open(input_file, \"r\") as file:\n",
        "    lines = file.readlines()\n",
        "\n",
        "all_text = \" \".join(lines)\n",
        "word_count = count_words(all_text)"
      ],
      "metadata": {
        "id": "KxMD6eFQaDic"
      },
      "execution_count": 57,
      "outputs": []
    },
    {
      "cell_type": "code",
      "source": [
        " # 'count_words' function takes input string and returns a dictionary containing word and respective count\n",
        "def count_words(input_txt):\n",
        "    word_count = {}\n",
        "    words = input_txt.split()\n",
        "    for word in words:\n",
        "        word = word.strip()\n",
        "        if word:\n",
        "            if word in word_count:\n",
        "                word_count[word] += 1\n",
        "            else:\n",
        "                word_count[word] = 1\n",
        "    return word_count"
      ],
      "metadata": {
        "id": "C9uadonHfb7O"
      },
      "execution_count": 58,
      "outputs": []
    },
    {
      "cell_type": "code",
      "source": [
        "writing_lines = []\n",
        "# Append individual input lines here, by removing the trailing spaces\n",
        "for line in lines:\n",
        "    writing_lines.append(line.strip())\n",
        "\n",
        "writing_lines.append(\"Word_Count:\")\n",
        "\n",
        "# iterate through dictionary items and append word and respective count\n",
        "for line, line_count in word_count.items():\n",
        "    writing_lines.append(f\"{line}: {line_count}\")"
      ],
      "metadata": {
        "id": "uDt6KWBofsq4"
      },
      "execution_count": 59,
      "outputs": []
    },
    {
      "cell_type": "code",
      "source": [
        "\n",
        "# the code opens the output file in write mode to write all lines,separated by newline\n",
        "\n",
        "with open(output_file, \"w\") as file:\n",
        "    file.write(\"\\n\".join(writing_lines))\n",
        "\n",
        "print(\"Output has been written to 'output.txt' file.\")\n"
      ],
      "metadata": {
        "colab": {
          "base_uri": "https://localhost:8080/"
        },
        "id": "9KKeW18roX5W",
        "outputId": "c71f79ae-607c-4145-f449-67d0843e161e"
      },
      "execution_count": 60,
      "outputs": [
        {
          "output_type": "stream",
          "name": "stdout",
          "text": [
            "Output has been written to 'output.txt' file.\n"
          ]
        }
      ]
    },
    {
      "cell_type": "code",
      "source": [
        "# 3. Write a program, which reads heights (inches.) of customers into a list and convert these heights to centimeters in a separate list using:\n",
        "    # 1) Nested Interactive loop.\n",
        "    # 2) List comprehensions.\n",
        "\n",
        "# Function to convert height from inches to centimeters\n",
        "def inches_to_cm(height_in_inches):\n",
        "    return height_in_inches * 2.54\n",
        "\n",
        "def main():\n",
        "\n",
        "  # Enter customer count to take input\n",
        "    cust_count = int(input(\"Enter the number of customers: \"))\n",
        "    inch_hyts = []\n",
        "\n",
        "    # A.  Read heights in inches using nested loop\n",
        "    for i in range(cust_count):\n",
        "        hyt = float(input(f\"Enter customer height {i+1} (in inches): \"))\n",
        "        inch_hyts.append(hyt)\n",
        "\n",
        "    # Convert heights to centimeters using nested loop\n",
        "    heights_cm = []\n",
        "    for hyt in inch_hyts:\n",
        "\n",
        "      # calling funtion for convertion\n",
        "        cm_hyt = inches_to_cm(hyt)\n",
        "        heights_cm.append(cm_hyt)\n",
        "\n",
        "    # B.  Convert heights to centimeters using list comprehension\n",
        "    heights_comp = [inches_to_cm(height) for height in inch_hyts]\n",
        "\n",
        "  # print result\n",
        "    print(\"customer heights  in centimeters (nested loop):\", heights_cm)\n",
        "    print(\"customer heights  in centimeters (list-comprehension):\", heights_comp)\n",
        "\n",
        "main()\n"
      ],
      "metadata": {
        "colab": {
          "base_uri": "https://localhost:8080/"
        },
        "id": "jz04Z7o0OvyG",
        "outputId": "f26584d6-a805-45af-a125-9dfe21c3c450"
      },
      "execution_count": 53,
      "outputs": [
        {
          "output_type": "stream",
          "name": "stdout",
          "text": [
            "Enter the number of customers: 1\n",
            "Enter customer height 1 (in inches): 13\n",
            "customer heights  in centimeters (nested loop): [33.02]\n",
            "customer heights  in centimeters (list-comprehension): [33.02]\n"
          ]
        }
      ]
    }
  ]
}